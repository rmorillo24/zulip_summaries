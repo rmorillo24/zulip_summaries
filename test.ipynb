{
 "cells": [
  {
   "cell_type": "code",
   "execution_count": 1,
   "metadata": {},
   "outputs": [],
   "source": [
    "import weaviate\n",
    "\n",
    "from llama_index import StorageContext, SimpleDirectoryReader, ServiceContext, VectorStoreIndex, Document, get_response_synthesizer\n",
    "from llama_index.vector_stores import WeaviateVectorStore\n",
    "from llama_index.embeddings import LangchainEmbedding, OllamaEmbedding\n",
    "from llama_index.indices.document_summary import DocumentSummaryIndex\n",
    "from llama_index.llms import Ollama\n",
    "from llama_index.query_engine import RetrieverQueryEngine\n",
    "from llama_index.postprocessor import SimilarityPostprocessor\n",
    "from llama_index.retrievers import VectorIndexRetriever\n",
    "\n",
    "\n",
    "import box\n",
    "import yaml\n",
    "import warnings\n",
    "\n",
    "import logger as log"
   ]
  },
  {
   "cell_type": "code",
   "execution_count": 2,
   "metadata": {},
   "outputs": [],
   "source": [
    "# logger = log.init_logger(__name__)\n",
    "# logger.debug(\"start\")\n"
   ]
  },
  {
   "cell_type": "code",
   "execution_count": 3,
   "metadata": {},
   "outputs": [],
   "source": [
    "config_path='./.venv/config.yml'\n",
    "with open(config_path, 'r', encoding='utf8') as ymlfile:\n",
    "    cfg = box.Box(yaml.safe_load(ymlfile))"
   ]
  },
  {
   "cell_type": "code",
   "execution_count": 4,
   "metadata": {},
   "outputs": [],
   "source": [
    "client = weaviate.Client(cfg.WEAVIATE_URL)"
   ]
  },
  {
   "cell_type": "code",
   "execution_count": 5,
   "metadata": {},
   "outputs": [],
   "source": [
    "llm = Ollama(\n",
    "            model=cfg.LLM,\n",
    "            base_url=cfg.OLLAMA_BASE_URL,\n",
    "            temperature=cfg.TEMPERATURE\n",
    "        )"
   ]
  },
  {
   "cell_type": "code",
   "execution_count": 6,
   "metadata": {},
   "outputs": [],
   "source": [
    "embeddings = OllamaEmbedding(model_name=cfg.LLM)"
   ]
  },
  {
   "cell_type": "code",
   "execution_count": 7,
   "metadata": {},
   "outputs": [],
   "source": [
    "service_context = ServiceContext.from_defaults(\n",
    "    embed_model=embeddings,\n",
    "    llm=llm\n",
    ")    "
   ]
  },
  {
   "cell_type": "code",
   "execution_count": 8,
   "metadata": {},
   "outputs": [],
   "source": [
    "index_name = \"A1148\""
   ]
  },
  {
   "cell_type": "code",
   "execution_count": 9,
   "metadata": {},
   "outputs": [],
   "source": [
    "vector_store = WeaviateVectorStore(\n",
    "    weaviate_client=client,\n",
    "    # index_name=cfg.INDEX_NAME\n",
    "    index_name = index_name\n",
    ")"
   ]
  },
  {
   "cell_type": "code",
   "execution_count": 10,
   "metadata": {},
   "outputs": [],
   "source": [
    "storage_context = StorageContext.from_defaults(\n",
    "    vector_store=vector_store\n",
    ") "
   ]
  },
  {
   "cell_type": "code",
   "execution_count": 11,
   "metadata": {},
   "outputs": [],
   "source": [
    "response_synthesizer = get_response_synthesizer(\n",
    "    response_mode=\"tree_summarize\",\n",
    "    use_async=False,\n",
    "    service_context=service_context\n",
    ")    "
   ]
  },
  {
   "cell_type": "code",
   "execution_count": 12,
   "metadata": {},
   "outputs": [],
   "source": [
    "from llama_index import VectorStoreIndex"
   ]
  },
  {
   "cell_type": "code",
   "execution_count": null,
   "metadata": {},
   "outputs": [],
   "source": []
  },
  {
   "cell_type": "code",
   "execution_count": 13,
   "metadata": {},
   "outputs": [],
   "source": [
    "index_main = VectorStoreIndex.from_vector_store(\n",
    "    vector_store = vector_store,\n",
    "    service_context = service_context\n",
    ")"
   ]
  },
  {
   "cell_type": "code",
   "execution_count": 14,
   "metadata": {},
   "outputs": [],
   "source": [
    "retriever = VectorIndexRetriever(\n",
    "    index=index_main,\n",
    "    similarity_top_k=4,\n",
    ") "
   ]
  },
  {
   "cell_type": "code",
   "execution_count": 15,
   "metadata": {},
   "outputs": [],
   "source": [
    "# zulip_query_engine = index_main.as_query_engine()\n",
    "zulip_query_engine = RetrieverQueryEngine(\n",
    "    retriever=retriever,\n",
    "    response_synthesizer=response_synthesizer,\n",
    "    node_postprocessors=[SimilarityPostprocessor(similarity_cutoff=0.3)]\n",
    ")"
   ]
  },
  {
   "cell_type": "code",
   "execution_count": 16,
   "metadata": {},
   "outputs": [
    {
     "name": "stdout",
     "output_type": "stream",
     "text": [
      "The implications of scheduling a brainstorm about partners are:\n",
      "\n",
      "1. Efficient organization: Scheduling a brainstorm specifically for partnership projects/activities can help ensure that these tasks are efficiently organized and prioritized within the Marketing meeting. This can help avoid confusion or overlap with other marketing activities.\n",
      "2. Clear communication: By dedicating a separate meeting to partnership projects/activities, it ensures that there is clear communication and focus on these tasks without distractions from other marketing areas.\n",
      "3. Better categorization: Using tags such as `aspect/marketing` and `product/balenaOS` can help categorize tasks more effectively within Fibery, making it easier to filter and organize them.\n",
      "4. Improved navigation: Having a convention for naming streams and tags can help people navigate and find the information they need more efficiently.\n",
      "5. Handling high-touch customers: By dedicating a separate meeting to partnership projects/activities, it allows for better handling of high-touch from customers (partners are also customers in this sense; they are not balena but making them happy bring us business). This can help ensure that their needs are met and that they are successful.\n",
      "6. Potential for expansion: The organization and tagging system used for partnership projects/activities could potentially be expanded to other areas within the company, such as sales or product development, to improve overall efficiency and organization.\n"
     ]
    }
   ],
   "source": [
    "response = zulip_query_engine.query(\"What are the imlications of scheduling a brainstorm about partners\")\n",
    "print(response)"
   ]
  },
  {
   "cell_type": "code",
   "execution_count": 17,
   "metadata": {},
   "outputs": [],
   "source": [
    "# for node in response.source_nodes:\n",
    "#     print(node.node_id, node.score, node.get_text())"
   ]
  },
  {
   "cell_type": "code",
   "execution_count": 18,
   "metadata": {},
   "outputs": [
    {
     "name": "stderr",
     "output_type": "stream",
     "text": [
      "/home/rafa/Workspace/my-projects/zulip_summaries/.venv/lib/python3.10/site-packages/tqdm/auto.py:21: TqdmWarning: IProgress not found. Please update jupyter and ipywidgets. See https://ipywidgets.readthedocs.io/en/stable/user_install.html\n",
      "  from .autonotebook import tqdm as notebook_tqdm\n",
      "Generating embeddings:   0%|          | 0/8 [00:00<?, ?it/s]"
     ]
    },
    {
     "name": "stderr",
     "output_type": "stream",
     "text": [
      "Generating embeddings: 100%|██████████| 8/8 [00:04<00:00,  1.99it/s]\n"
     ]
    }
   ],
   "source": [
    "#### sample code to load a document into the current index (index_main)\n",
    "with open(\"data/_announcements/(Fibery) Brainstorm calls migration\", 'r') as file:\n",
    "    text = \" \".join(line.rstrip() for line in file)\n",
    "document = Document(text=text, doc_id=\"brainstorm2\", metadata={\"stream\": \"_announcements\", \"doc_name\": \"brainstorm2\"})\n",
    "documents=[document]\n",
    "index_main.insert(document, show_progress=True)"
   ]
  },
  {
   "cell_type": "code",
   "execution_count": 19,
   "metadata": {},
   "outputs": [
    {
     "name": "stderr",
     "output_type": "stream",
     "text": [
      "Parsing nodes: 100%|██████████| 1/1 [00:00<00:00, 98.60it/s]\n",
      "Summarizing documents:   0%|          | 0/1 [00:00<?, ?it/s]"
     ]
    },
    {
     "name": "stdout",
     "output_type": "stream",
     "text": [
      "current doc id: brainstorm2\n"
     ]
    },
    {
     "name": "stderr",
     "output_type": "stream",
     "text": [
      "Summarizing documents: 100%|██████████| 1/1 [00:14<00:00, 14.42s/it]\n",
      "Generating embeddings: 100%|██████████| 1/1 [00:01<00:00,  1.65s/it]\n"
     ]
    }
   ],
   "source": [
    "doc_summary_index = DocumentSummaryIndex.from_documents(\n",
    "    documents=documents,\n",
    "    storage_context=storage_context,\n",
    "    service_context=service_context,\n",
    "    response_synthesizer=response_synthesizer,\n",
    "    show_progress=True\n",
    "   )"
   ]
  },
  {
   "cell_type": "code",
   "execution_count": 20,
   "metadata": {},
   "outputs": [],
   "source": [
    "doc_summary_index.storage_context.persist(persist_dir=\"./storage\")"
   ]
  },
  {
   "cell_type": "code",
   "execution_count": 21,
   "metadata": {},
   "outputs": [],
   "source": [
    "from llama_index.indices.loading import load_index_from_storage\n",
    "doc_summary_index2 = load_index_from_storage(storage_context=storage_context, service_context=service_context)"
   ]
  },
  {
   "cell_type": "code",
   "execution_count": 29,
   "metadata": {},
   "outputs": [
    {
     "name": "stdout",
     "output_type": "stream",
     "text": [
      "The provided text is about a discussion on how to organize and track brainstorm calls and patterns in Fibery, specifically related to the marketing aspect. The participants are trying to understand why there is a separate meeting for partnership projects/activities instead of discussing everything under a Marketing meeting, and they mention the need to add meta-data to tasks in Fibery using tags such as `aspect/marketing` and `product/balenaOS` to categorize them. The text also touches upon the integration of events from Google Calendar into Fibery and how it relates to brainstorm calls.\n",
      "\n",
      "Some of the questions that this text can answer include:\n",
      "\n",
      "* Why do we have a separate meeting for partnership projects/activities instead of discussing everything under a Marketing meeting?\n",
      "* How can we efficiently organize brainstorm calls in Fibery, especially related to marketing aspects?\n",
      "* What is the best way to categorize tasks in Fibery to facilitate filtering and organization?\n",
      "* How can we use tags to add meta-data to tasks and improve their organization in Fibery?\n",
      "* Is there a convention for naming streams and tags that can help people navigate and find the information they need?\n",
      "* How do we handle situations where there is a high-touch from customers (partners are also customers in this sense; they are not balena but making them happy bring us business), and how can we facilitate their success?\n",
      "* What other areas might benefit from a similar organization and tagging system?\n"
     ]
    }
   ],
   "source": [
    "print(doc_summary_index2.get_document_summary(\"brainstorm2\"))"
   ]
  },
  {
   "cell_type": "code",
   "execution_count": 30,
   "metadata": {},
   "outputs": [],
   "source": [
    "zulip_query_engine = doc_summary_index2.as_query_engine()\n"
   ]
  },
  {
   "cell_type": "code",
   "execution_count": 31,
   "metadata": {},
   "outputs": [
    {
     "ename": "KeyError",
     "evalue": "'8c2ece97-6598-4ee6-aa03-a173853b671c'",
     "output_type": "error",
     "traceback": [
      "\u001b[0;31m---------------------------------------------------------------------------\u001b[0m",
      "\u001b[0;31mKeyError\u001b[0m                                  Traceback (most recent call last)",
      "Cell \u001b[0;32mIn[31], line 1\u001b[0m\n\u001b[0;32m----> 1\u001b[0m r \u001b[38;5;241m=\u001b[39m \u001b[43mzulip_query_engine\u001b[49m\u001b[38;5;241;43m.\u001b[39;49m\u001b[43mquery\u001b[49m\u001b[43m(\u001b[49m\u001b[38;5;124;43m\"\u001b[39;49m\u001b[38;5;124;43mis there a convention for naming streams\u001b[39;49m\u001b[38;5;124;43m\"\u001b[39;49m\u001b[43m)\u001b[49m\n",
      "File \u001b[0;32m~/Workspace/my-projects/zulip_summaries/.venv/lib/python3.10/site-packages/llama_index/core/base_query_engine.py:30\u001b[0m, in \u001b[0;36mBaseQueryEngine.query\u001b[0;34m(self, str_or_query_bundle)\u001b[0m\n\u001b[1;32m     28\u001b[0m \u001b[38;5;28;01mif\u001b[39;00m \u001b[38;5;28misinstance\u001b[39m(str_or_query_bundle, \u001b[38;5;28mstr\u001b[39m):\n\u001b[1;32m     29\u001b[0m     str_or_query_bundle \u001b[38;5;241m=\u001b[39m QueryBundle(str_or_query_bundle)\n\u001b[0;32m---> 30\u001b[0m \u001b[38;5;28;01mreturn\u001b[39;00m \u001b[38;5;28;43mself\u001b[39;49m\u001b[38;5;241;43m.\u001b[39;49m\u001b[43m_query\u001b[49m\u001b[43m(\u001b[49m\u001b[43mstr_or_query_bundle\u001b[49m\u001b[43m)\u001b[49m\n",
      "File \u001b[0;32m~/Workspace/my-projects/zulip_summaries/.venv/lib/python3.10/site-packages/llama_index/query_engine/retriever_query_engine.py:170\u001b[0m, in \u001b[0;36mRetrieverQueryEngine._query\u001b[0;34m(self, query_bundle)\u001b[0m\n\u001b[1;32m    166\u001b[0m \u001b[38;5;250m\u001b[39m\u001b[38;5;124;03m\"\"\"Answer a query.\"\"\"\u001b[39;00m\n\u001b[1;32m    167\u001b[0m \u001b[38;5;28;01mwith\u001b[39;00m \u001b[38;5;28mself\u001b[39m\u001b[38;5;241m.\u001b[39mcallback_manager\u001b[38;5;241m.\u001b[39mevent(\n\u001b[1;32m    168\u001b[0m     CBEventType\u001b[38;5;241m.\u001b[39mQUERY, payload\u001b[38;5;241m=\u001b[39m{EventPayload\u001b[38;5;241m.\u001b[39mQUERY_STR: query_bundle\u001b[38;5;241m.\u001b[39mquery_str}\n\u001b[1;32m    169\u001b[0m ) \u001b[38;5;28;01mas\u001b[39;00m query_event:\n\u001b[0;32m--> 170\u001b[0m     nodes \u001b[38;5;241m=\u001b[39m \u001b[38;5;28;43mself\u001b[39;49m\u001b[38;5;241;43m.\u001b[39;49m\u001b[43mretrieve\u001b[49m\u001b[43m(\u001b[49m\u001b[43mquery_bundle\u001b[49m\u001b[43m)\u001b[49m\n\u001b[1;32m    171\u001b[0m     response \u001b[38;5;241m=\u001b[39m \u001b[38;5;28mself\u001b[39m\u001b[38;5;241m.\u001b[39m_response_synthesizer\u001b[38;5;241m.\u001b[39msynthesize(\n\u001b[1;32m    172\u001b[0m         query\u001b[38;5;241m=\u001b[39mquery_bundle,\n\u001b[1;32m    173\u001b[0m         nodes\u001b[38;5;241m=\u001b[39mnodes,\n\u001b[1;32m    174\u001b[0m     )\n\u001b[1;32m    176\u001b[0m     query_event\u001b[38;5;241m.\u001b[39mon_end(payload\u001b[38;5;241m=\u001b[39m{EventPayload\u001b[38;5;241m.\u001b[39mRESPONSE: response})\n",
      "File \u001b[0;32m~/Workspace/my-projects/zulip_summaries/.venv/lib/python3.10/site-packages/llama_index/query_engine/retriever_query_engine.py:126\u001b[0m, in \u001b[0;36mRetrieverQueryEngine.retrieve\u001b[0;34m(self, query_bundle)\u001b[0m\n\u001b[1;32m    125\u001b[0m \u001b[38;5;28;01mdef\u001b[39;00m \u001b[38;5;21mretrieve\u001b[39m(\u001b[38;5;28mself\u001b[39m, query_bundle: QueryBundle) \u001b[38;5;241m-\u001b[39m\u001b[38;5;241m>\u001b[39m List[NodeWithScore]:\n\u001b[0;32m--> 126\u001b[0m     nodes \u001b[38;5;241m=\u001b[39m \u001b[38;5;28;43mself\u001b[39;49m\u001b[38;5;241;43m.\u001b[39;49m\u001b[43m_retriever\u001b[49m\u001b[38;5;241;43m.\u001b[39;49m\u001b[43mretrieve\u001b[49m\u001b[43m(\u001b[49m\u001b[43mquery_bundle\u001b[49m\u001b[43m)\u001b[49m\n\u001b[1;32m    127\u001b[0m     \u001b[38;5;28;01mreturn\u001b[39;00m \u001b[38;5;28mself\u001b[39m\u001b[38;5;241m.\u001b[39m_apply_node_postprocessors(nodes, query_bundle\u001b[38;5;241m=\u001b[39mquery_bundle)\n",
      "File \u001b[0;32m~/Workspace/my-projects/zulip_summaries/.venv/lib/python3.10/site-packages/llama_index/core/base_retriever.py:54\u001b[0m, in \u001b[0;36mBaseRetriever.retrieve\u001b[0;34m(self, str_or_query_bundle)\u001b[0m\n\u001b[1;32m     49\u001b[0m \u001b[38;5;28;01mwith\u001b[39;00m \u001b[38;5;28mself\u001b[39m\u001b[38;5;241m.\u001b[39mcallback_manager\u001b[38;5;241m.\u001b[39mas_trace(\u001b[38;5;124m\"\u001b[39m\u001b[38;5;124mquery\u001b[39m\u001b[38;5;124m\"\u001b[39m):\n\u001b[1;32m     50\u001b[0m     \u001b[38;5;28;01mwith\u001b[39;00m \u001b[38;5;28mself\u001b[39m\u001b[38;5;241m.\u001b[39mcallback_manager\u001b[38;5;241m.\u001b[39mevent(\n\u001b[1;32m     51\u001b[0m         CBEventType\u001b[38;5;241m.\u001b[39mRETRIEVE,\n\u001b[1;32m     52\u001b[0m         payload\u001b[38;5;241m=\u001b[39m{EventPayload\u001b[38;5;241m.\u001b[39mQUERY_STR: query_bundle\u001b[38;5;241m.\u001b[39mquery_str},\n\u001b[1;32m     53\u001b[0m     ) \u001b[38;5;28;01mas\u001b[39;00m retrieve_event:\n\u001b[0;32m---> 54\u001b[0m         nodes \u001b[38;5;241m=\u001b[39m \u001b[38;5;28;43mself\u001b[39;49m\u001b[38;5;241;43m.\u001b[39;49m\u001b[43m_retrieve\u001b[49m\u001b[43m(\u001b[49m\u001b[43mquery_bundle\u001b[49m\u001b[43m)\u001b[49m\n\u001b[1;32m     55\u001b[0m         retrieve_event\u001b[38;5;241m.\u001b[39mon_end(\n\u001b[1;32m     56\u001b[0m             payload\u001b[38;5;241m=\u001b[39m{EventPayload\u001b[38;5;241m.\u001b[39mNODES: nodes},\n\u001b[1;32m     57\u001b[0m         )\n\u001b[1;32m     58\u001b[0m \u001b[38;5;28;01mreturn\u001b[39;00m nodes\n",
      "File \u001b[0;32m~/Workspace/my-projects/zulip_summaries/.venv/lib/python3.10/site-packages/llama_index/indices/document_summary/retrievers.py:168\u001b[0m, in \u001b[0;36mDocumentSummaryIndexEmbeddingRetriever._retrieve\u001b[0;34m(self, query_bundle)\u001b[0m\n\u001b[1;32m    166\u001b[0m results \u001b[38;5;241m=\u001b[39m []\n\u001b[1;32m    167\u001b[0m \u001b[38;5;28;01mfor\u001b[39;00m summary_id \u001b[38;5;129;01min\u001b[39;00m top_k_summary_ids:\n\u001b[0;32m--> 168\u001b[0m     node_ids \u001b[38;5;241m=\u001b[39m \u001b[38;5;28;43mself\u001b[39;49m\u001b[38;5;241;43m.\u001b[39;49m\u001b[43m_index_struct\u001b[49m\u001b[38;5;241;43m.\u001b[39;49m\u001b[43msummary_id_to_node_ids\u001b[49m\u001b[43m[\u001b[49m\u001b[43msummary_id\u001b[49m\u001b[43m]\u001b[49m\n\u001b[1;32m    169\u001b[0m     nodes \u001b[38;5;241m=\u001b[39m \u001b[38;5;28mself\u001b[39m\u001b[38;5;241m.\u001b[39m_docstore\u001b[38;5;241m.\u001b[39mget_nodes(node_ids)\n\u001b[1;32m    170\u001b[0m     results\u001b[38;5;241m.\u001b[39mextend([NodeWithScore(node\u001b[38;5;241m=\u001b[39mn) \u001b[38;5;28;01mfor\u001b[39;00m n \u001b[38;5;129;01min\u001b[39;00m nodes])\n",
      "\u001b[0;31mKeyError\u001b[0m: '8c2ece97-6598-4ee6-aa03-a173853b671c'"
     ]
    }
   ],
   "source": [
    "r = zulip_query_engine.query(\"is there a convention for naming streams\")"
   ]
  },
  {
   "cell_type": "markdown",
   "metadata": {},
   "source": [
    "### Generating a summary of an existing stored document using it's title\n",
    "I haven't been able to retreive the summary index. The index is not working. I've tried also persist in storage_context(storage_dir=\"./storage\"), but this is not storing or loading any indexes.\n",
    "Shame...\n",
    "\n",
    "# doc_summary_index = DocumentSummaryIndex(service_context=service_context,\n",
    "from llama_index.indices.document_summary import DocumentSummaryIndexLLMRetriever\n",
    "from llama_index.indices.loading import load_index_from_storage, load_indices_from_storage\n",
    "doc_summary_index = load_indices_from_storage(storage_context=storage_context, index_id=index_name)"
   ]
  },
  {
   "cell_type": "code",
   "execution_count": null,
   "metadata": {},
   "outputs": [],
   "source": []
  },
  {
   "cell_type": "code",
   "execution_count": null,
   "metadata": {},
   "outputs": [],
   "source": [
    "from llama_index.agent import "
   ]
  }
 ],
 "metadata": {
  "kernelspec": {
   "display_name": ".venv",
   "language": "python",
   "name": "python3"
  },
  "language_info": {
   "codemirror_mode": {
    "name": "ipython",
    "version": 3
   },
   "file_extension": ".py",
   "mimetype": "text/x-python",
   "name": "python",
   "nbconvert_exporter": "python",
   "pygments_lexer": "ipython3",
   "version": "3.10.12"
  }
 },
 "nbformat": 4,
 "nbformat_minor": 2
}
